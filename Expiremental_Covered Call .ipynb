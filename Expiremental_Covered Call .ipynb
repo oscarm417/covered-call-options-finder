{
 "cells": [
  {
   "cell_type": "code",
   "execution_count": null,
   "metadata": {},
   "outputs": [],
   "source": [
    "import pandas as pd \n",
    "import numpy as np \n",
    "import matplotlib.pyplot as plt\n",
    "from tqdm.notebook import tqdm\n",
    "\n",
    "quote ='https://finance.yahoo.com/quote/'\n"
   ]
  },
  {
   "cell_type": "code",
   "execution_count": null,
   "metadata": {},
   "outputs": [],
   "source": [
    "sp500 = pd.read_html('https://en.wikipedia.org/wiki/List_of_S%26P_500_companies')\n",
    "sp500 =sp500[0]\n",
    "sp500 = sp500[['Security','Symbol']]\n",
    "for i in sp500.index:\n",
    "    if \".B\" in sp500.loc[i,'Symbol']:\n",
    "        sp500 = sp500.drop(i)"
   ]
  },
  {
   "cell_type": "code",
   "execution_count": null,
   "metadata": {},
   "outputs": [],
   "source": [
    "#newer version \n",
    "l = []\n",
    "counter = 0\n",
    "for i in tqdm(sp500['Symbol']):\n",
    "    counter +=1\n",
    "    qurl = quote+i\n",
    "    price = pd.read_html(qurl)\n",
    "    try:\n",
    "        chain = pd.read_html(quote+i+\"/options\")[0]\n",
    "    except:\n",
    "        print('none')\n",
    "        l.append(0)\n",
    "        continue\n",
    "    \n",
    "    \n",
    "    bid_stock = float(price[0].loc[2,1][:5].replace(',',''))\n",
    "    ask_stock = float(price[0].loc[3,1][:5].replace(',',''))\n",
    "    \n",
    "    price = (float(bid_stock)+float(ask_stock))/2\n",
    "    \n",
    "    strike_prices = list(chain['Strike'])\n",
    "    \n",
    "    chosen_strike= min(strike_prices, key=lambda x:abs(x-price))\n",
    "    \n",
    "    try:\n",
    "        bid_option = float(chain[chain['Strike'] == chosen_strike]['Bid'])\n",
    "        ask_option = float(chain[chain['Strike'] == chosen_strike]['Ask'])\n",
    "    except:\n",
    "        l.append(0)\n",
    "        print('none')\n",
    "        continue\n",
    "\n",
    "    option_price = (bid_option+ask_option)/2\n",
    "    \n",
    "    try:\n",
    "        perc = (price-(chosen_strike+option_price))/price\n",
    "    except:\n",
    "        perc = 0 \n",
    "    \n",
    "    l.append(perc)\n",
    "    \n",
    "\n",
    "    \n",
    "l = [x * 100 for x in l]\n",
    "sp500['percent'] = l\n",
    "\n",
    "    "
   ]
  },
  {
   "cell_type": "code",
   "execution_count": null,
   "metadata": {},
   "outputs": [],
   "source": [
    "#old version finds movers!!!\n",
    "li = []\n",
    "counter = 0\n",
    "for i in sp500['Symbol']:\n",
    "    counter +=1\n",
    "    qurl = quote+i\n",
    "    price = pd.read_html(qurl)[0].loc[1,1]\n",
    "    try:\n",
    "        chain = pd.read_html(quote+i+\"/options\")\n",
    "        calls = chain[0]\n",
    "    except:\n",
    "        print('none')\n",
    "        li.append(0)\n",
    "        continue\n",
    "    strike = round(float(price),0)\n",
    "    e = calls[calls['Strike'] == strike]['Last Price']\n",
    "    c = 0\n",
    "    for i in e:\n",
    "        c= i\n",
    "    perc = c/float(price)\n",
    "    \n",
    "    li.append(perc)\n",
    "    \n",
    "    \n",
    "li = [x * 100 for x in li]\n",
    "sp500['']\n",
    "\n",
    "\n",
    "    "
   ]
  },
  {
   "cell_type": "code",
   "execution_count": 6,
   "metadata": {},
   "outputs": [
    {
     "ename": "NameError",
     "evalue": "name 'li' is not defined",
     "output_type": "error",
     "traceback": [
      "\u001b[1;31m---------------------------------------------------------------------------\u001b[0m",
      "\u001b[1;31mNameError\u001b[0m                                 Traceback (most recent call last)",
      "\u001b[1;32m<ipython-input-6-a34157149762>\u001b[0m in \u001b[0;36m<module>\u001b[1;34m\u001b[0m\n\u001b[1;32m----> 1\u001b[1;33m \u001b[0msp500\u001b[0m\u001b[1;33m[\u001b[0m\u001b[1;34m'percent'\u001b[0m\u001b[1;33m]\u001b[0m \u001b[1;33m=\u001b[0m \u001b[0mli\u001b[0m\u001b[1;33m\u001b[0m\u001b[1;33m\u001b[0m\u001b[0m\n\u001b[0m",
      "\u001b[1;31mNameError\u001b[0m: name 'li' is not defined"
     ]
    }
   ],
   "source": [
    "sp500['percent'] = li"
   ]
  },
  {
   "cell_type": "code",
   "execution_count": null,
   "metadata": {},
   "outputs": [],
   "source": []
  },
  {
   "cell_type": "code",
   "execution_count": null,
   "metadata": {},
   "outputs": [],
   "source": []
  },
  {
   "cell_type": "code",
   "execution_count": 8,
   "metadata": {},
   "outputs": [],
   "source": [
    "#filter above 2 percent profitability \n",
    "filt = sp500[sp500['percent']>2]"
   ]
  },
  {
   "cell_type": "code",
   "execution_count": 9,
   "metadata": {},
   "outputs": [
    {
     "data": {
      "text/html": [
       "<div>\n",
       "<style scoped>\n",
       "    .dataframe tbody tr th:only-of-type {\n",
       "        vertical-align: middle;\n",
       "    }\n",
       "\n",
       "    .dataframe tbody tr th {\n",
       "        vertical-align: top;\n",
       "    }\n",
       "\n",
       "    .dataframe thead th {\n",
       "        text-align: right;\n",
       "    }\n",
       "</style>\n",
       "<table border=\"1\" class=\"dataframe\">\n",
       "  <thead>\n",
       "    <tr style=\"text-align: right;\">\n",
       "      <th></th>\n",
       "      <th>Security</th>\n",
       "      <th>Symbol</th>\n",
       "      <th>percent</th>\n",
       "    </tr>\n",
       "  </thead>\n",
       "  <tbody>\n",
       "  </tbody>\n",
       "</table>\n",
       "</div>"
      ],
      "text/plain": [
       "Empty DataFrame\n",
       "Columns: [Security, Symbol, percent]\n",
       "Index: []"
      ]
     },
     "execution_count": 9,
     "metadata": {},
     "output_type": "execute_result"
    }
   ],
   "source": [
    "filt[filt['percent'] <15]"
   ]
  },
  {
   "cell_type": "code",
   "execution_count": null,
   "metadata": {},
   "outputs": [],
   "source": []
  },
  {
   "cell_type": "code",
   "execution_count": null,
   "metadata": {},
   "outputs": [],
   "source": []
  },
  {
   "cell_type": "code",
   "execution_count": null,
   "metadata": {},
   "outputs": [],
   "source": []
  },
  {
   "cell_type": "code",
   "execution_count": null,
   "metadata": {},
   "outputs": [],
   "source": []
  },
  {
   "cell_type": "code",
   "execution_count": null,
   "metadata": {},
   "outputs": [],
   "source": []
  },
  {
   "cell_type": "code",
   "execution_count": 8,
   "metadata": {},
   "outputs": [],
   "source": [
    "#fetching the data \n",
    "nasdaq = pd.read_html('https://en.wikipedia.org/wiki/NASDAQ-100')\n",
    "nasdaq = nasdaq[2]\n",
    "for i in nasdaq.index:\n",
    "    if \".B\" in nasdaq.loc[i,'Ticker']:\n",
    "        nasdaq = nasdaq.drop(i)"
   ]
  },
  {
   "cell_type": "code",
   "execution_count": 32,
   "metadata": {
    "scrolled": true
   },
   "outputs": [
    {
     "name": "stdout",
     "output_type": "stream",
     "text": [
      "1\n",
      "2\n",
      "3\n",
      "4\n",
      "5\n",
      "6\n",
      "7\n",
      "8\n",
      "9\n",
      "10\n",
      "11\n",
      "12\n",
      "13\n",
      "14\n",
      "15\n",
      "16\n",
      "17\n",
      "18\n",
      "19\n",
      "20\n",
      "21\n",
      "22\n",
      "23\n",
      "24\n",
      "25\n",
      "26\n",
      "27\n",
      "28\n",
      "29\n",
      "30\n",
      "31\n",
      "32\n",
      "33\n",
      "34\n",
      "35\n",
      "36\n",
      "37\n",
      "38\n",
      "39\n",
      "40\n",
      "41\n",
      "42\n",
      "43\n",
      "44\n",
      "45\n",
      "46\n",
      "47\n",
      "48\n",
      "49\n",
      "50\n",
      "51\n",
      "52\n",
      "53\n",
      "54\n",
      "55\n",
      "56\n",
      "57\n",
      "58\n",
      "59\n",
      "60\n",
      "61\n",
      "62\n",
      "63\n",
      "64\n",
      "65\n",
      "66\n",
      "67\n",
      "68\n",
      "69\n",
      "70\n",
      "71\n",
      "72\n",
      "73\n",
      "74\n",
      "75\n",
      "76\n",
      "77\n",
      "78\n",
      "79\n",
      "80\n",
      "81\n",
      "82\n",
      "83\n",
      "84\n",
      "85\n",
      "86\n",
      "87\n",
      "88\n",
      "89\n",
      "90\n",
      "91\n",
      "92\n",
      "93\n",
      "94\n",
      "95\n",
      "96\n",
      "97\n",
      "98\n",
      "99\n",
      "100\n",
      "101\n",
      "102\n",
      "103\n"
     ]
    }
   ],
   "source": [
    "l = []\n",
    "counter = 0\n",
    "for i in nasdaq['Ticker']:\n",
    "    counter +=1\n",
    "    qurl = quote+i\n",
    "    price = pd.read_html(qurl)\n",
    "    try:\n",
    "        chain = pd.read_html(quote+i+\"/options\")[0]\n",
    "    except:\n",
    "        print('none')\n",
    "        l.append(0)\n",
    "        continue\n",
    "    \n",
    "    \n",
    "    bid_stock = float(price[0].loc[2,1][:5].replace(',',''))\n",
    "    ask_stock = float(price[0].loc[3,1][:5].replace(',',''))\n",
    "    \n",
    "    price = (float(bid_stock)+float(ask_stock))/2\n",
    "    \n",
    "    strike_prices = list(chain['Strike'])\n",
    "    \n",
    "    chosen_strike= min(strike_prices, key=lambda x:abs(x-price))\n",
    "    \n",
    "    \n",
    "    bid_option = float(chain[chain['Strike'] == chosen_strike]['Bid'])\n",
    "    ask_option = float(chain[chain['Strike'] == chosen_strike]['Ask'])\n",
    "    \n",
    "    option_price = (bid_option+ask_option)/2\n",
    "    \n",
    "    \n",
    "   \n",
    "    perc = option_price/price\n",
    "    \n",
    "    l.append(perc)\n",
    "    \n",
    "    print(counter)\n",
    "    \n",
    "l = [x * 100 for x in l]\n",
    "nasdaq['percent'] = l\n",
    "\n",
    "    "
   ]
  },
  {
   "cell_type": "code",
   "execution_count": 23,
   "metadata": {},
   "outputs": [
    {
     "data": {
      "text/plain": [
       "0.09"
      ]
     },
     "execution_count": 23,
     "metadata": {},
     "output_type": "execute_result"
    }
   ],
   "source": [
    "bid_option"
   ]
  },
  {
   "cell_type": "code",
   "execution_count": null,
   "metadata": {},
   "outputs": [],
   "source": []
  },
  {
   "cell_type": "code",
   "execution_count": 30,
   "metadata": {},
   "outputs": [
    {
     "data": {
      "text/plain": [
       "94.0"
      ]
     },
     "execution_count": 30,
     "metadata": {},
     "output_type": "execute_result"
    }
   ],
   "source": [
    "chosen_strike"
   ]
  },
  {
   "cell_type": "code",
   "execution_count": 24,
   "metadata": {},
   "outputs": [
    {
     "data": {
      "text/plain": [
       "0.11"
      ]
     },
     "execution_count": 24,
     "metadata": {},
     "output_type": "execute_result"
    }
   ],
   "source": [
    "ask_option"
   ]
  },
  {
   "cell_type": "code",
   "execution_count": 25,
   "metadata": {},
   "outputs": [
    {
     "data": {
      "text/plain": [
       "0.2"
      ]
     },
     "execution_count": 25,
     "metadata": {},
     "output_type": "execute_result"
    }
   ],
   "source": [
    "bid_option+ask_option"
   ]
  },
  {
   "cell_type": "code",
   "execution_count": 29,
   "metadata": {},
   "outputs": [
    {
     "data": {
      "text/plain": [
       "'XLNX'"
      ]
     },
     "execution_count": 29,
     "metadata": {},
     "output_type": "execute_result"
    }
   ],
   "source": [
    "i"
   ]
  },
  {
   "cell_type": "code",
   "execution_count": 27,
   "metadata": {},
   "outputs": [
    {
     "data": {
      "text/plain": [
       "0.2203978180616012"
      ]
     },
     "execution_count": 27,
     "metadata": {},
     "output_type": "execute_result"
    }
   ],
   "source": [
    ".2/price*100"
   ]
  },
  {
   "cell_type": "code",
   "execution_count": 28,
   "metadata": {},
   "outputs": [
    {
     "data": {
      "text/plain": [
       "90.745"
      ]
     },
     "execution_count": 28,
     "metadata": {},
     "output_type": "execute_result"
    }
   ],
   "source": [
    "price"
   ]
  },
  {
   "cell_type": "code",
   "execution_count": null,
   "metadata": {},
   "outputs": [],
   "source": []
  },
  {
   "cell_type": "code",
   "execution_count": 34,
   "metadata": {},
   "outputs": [
    {
     "data": {
      "text/html": [
       "<div>\n",
       "<style scoped>\n",
       "    .dataframe tbody tr th:only-of-type {\n",
       "        vertical-align: middle;\n",
       "    }\n",
       "\n",
       "    .dataframe tbody tr th {\n",
       "        vertical-align: top;\n",
       "    }\n",
       "\n",
       "    .dataframe thead th {\n",
       "        text-align: right;\n",
       "    }\n",
       "</style>\n",
       "<table border=\"1\" class=\"dataframe\">\n",
       "  <thead>\n",
       "    <tr style=\"text-align: right;\">\n",
       "      <th></th>\n",
       "      <th>Company</th>\n",
       "      <th>Ticker</th>\n",
       "      <th>percent</th>\n",
       "    </tr>\n",
       "  </thead>\n",
       "  <tbody>\n",
       "    <tr>\n",
       "      <th>33</th>\n",
       "      <td>CoStar Group</td>\n",
       "      <td>CSGP</td>\n",
       "      <td>3.478261</td>\n",
       "    </tr>\n",
       "    <tr>\n",
       "      <th>40</th>\n",
       "      <td>Expedia Group</td>\n",
       "      <td>EXPE</td>\n",
       "      <td>4.126984</td>\n",
       "    </tr>\n",
       "    <tr>\n",
       "      <th>71</th>\n",
       "      <td>NVIDIA Corporation</td>\n",
       "      <td>NVDA</td>\n",
       "      <td>3.819188</td>\n",
       "    </tr>\n",
       "  </tbody>\n",
       "</table>\n",
       "</div>"
      ],
      "text/plain": [
       "               Company Ticker   percent\n",
       "33        CoStar Group   CSGP  3.478261\n",
       "40       Expedia Group   EXPE  4.126984\n",
       "71  NVIDIA Corporation   NVDA  3.819188"
      ]
     },
     "execution_count": 34,
     "metadata": {},
     "output_type": "execute_result"
    }
   ],
   "source": [
    "nasdaq[nasdaq['percent']>3]"
   ]
  },
  {
   "cell_type": "code",
   "execution_count": null,
   "metadata": {},
   "outputs": [],
   "source": []
  },
  {
   "cell_type": "code",
   "execution_count": 2,
   "metadata": {},
   "outputs": [
    {
     "data": {
      "text/plain": [
       "10"
      ]
     },
     "execution_count": 2,
     "metadata": {},
     "output_type": "execute_result"
    }
   ],
   "source": [
    "5+5"
   ]
  },
  {
   "cell_type": "code",
   "execution_count": 68,
   "metadata": {},
   "outputs": [
    {
     "ename": "IndexError",
     "evalue": "list index out of range",
     "output_type": "error",
     "traceback": [
      "\u001b[1;31m---------------------------------------------------------------------------\u001b[0m",
      "\u001b[1;31mIndexError\u001b[0m                                Traceback (most recent call last)",
      "\u001b[1;32m<ipython-input-68-f70620bf1203>\u001b[0m in \u001b[0;36m<module>\u001b[1;34m\u001b[0m\n\u001b[1;32m----> 1\u001b[1;33m \u001b[0ms\u001b[0m\u001b[1;33m[\u001b[0m\u001b[1;36m2\u001b[0m\u001b[1;33m]\u001b[0m\u001b[1;33m\u001b[0m\u001b[1;33m\u001b[0m\u001b[0m\n\u001b[0m",
      "\u001b[1;31mIndexError\u001b[0m: list index out of range"
     ]
    }
   ],
   "source": [
    "s[2]"
   ]
  },
  {
   "cell_type": "code",
   "execution_count": 3,
   "metadata": {},
   "outputs": [
    {
     "ename": "NameError",
     "evalue": "name 'sp500' is not defined",
     "output_type": "error",
     "traceback": [
      "\u001b[1;31m---------------------------------------------------------------------------\u001b[0m",
      "\u001b[1;31mNameError\u001b[0m                                 Traceback (most recent call last)",
      "\u001b[1;32m<ipython-input-3-89fc25d9bdcb>\u001b[0m in \u001b[0;36m<module>\u001b[1;34m\u001b[0m\n\u001b[0;32m      4\u001b[0m \u001b[1;33m\u001b[0m\u001b[0m\n\u001b[0;32m      5\u001b[0m \u001b[1;33m\u001b[0m\u001b[0m\n\u001b[1;32m----> 6\u001b[1;33m \u001b[0msp500\u001b[0m \u001b[1;33m=\u001b[0m \u001b[0msp500\u001b[0m\u001b[1;33m[\u001b[0m\u001b[1;33m[\u001b[0m\u001b[1;34m'Security'\u001b[0m\u001b[1;33m,\u001b[0m\u001b[1;34m'Symbol'\u001b[0m\u001b[1;33m]\u001b[0m\u001b[1;33m]\u001b[0m\u001b[1;33m\u001b[0m\u001b[1;33m\u001b[0m\u001b[0m\n\u001b[0m",
      "\u001b[1;31mNameError\u001b[0m: name 'sp500' is not defined"
     ]
    }
   ],
   "source": [
    "names = \"A\"\n",
    "stock_list = 'https://en.wikipedia.org/wiki/Companies_listed_on_the_New_York_Stock_Exchange_('+names+')'\n",
    "\n",
    "\n",
    "\n",
    "sp500 = sp500[['Security','Symbol']]"
   ]
  },
  {
   "cell_type": "code",
   "execution_count": null,
   "metadata": {},
   "outputs": [],
   "source": [
    "import string \n",
    "\n",
    "alphabet = string.ascii_uppercase\n",
    "\n",
    "frame_list = []\n",
    "for i in alphabet:\n",
    "    stock_list = 'https://en.wikipedia.org/wiki/Companies_listed_on_the_New_York_Stock_Exchange_('+i+')'\n",
    "    check = pd.read_html(stock_list)\n",
    "    frame_list.append(check[1])\n",
    "    \n",
    "\n",
    "result = pd.concat(frame_list)\n"
   ]
  },
  {
   "cell_type": "code",
   "execution_count": null,
   "metadata": {},
   "outputs": [],
   "source": [
    "result = result[result['Country of origin']=='US']\n",
    "result.apply(lambda x: '.' in  x['Symbol'] ,axis=1)\n",
    "bool = result.apply(lambda x: '.' in x['Symbol'], axis = 1)\n",
    "result['bool']  = bool\n",
    "test = result[result['bool'] == False]"
   ]
  },
  {
   "cell_type": "code",
   "execution_count": null,
   "metadata": {},
   "outputs": [],
   "source": []
  },
  {
   "cell_type": "code",
   "execution_count": null,
   "metadata": {},
   "outputs": [],
   "source": [
    "test = test[['Stock name','Symbol']]"
   ]
  },
  {
   "cell_type": "code",
   "execution_count": null,
   "metadata": {},
   "outputs": [],
   "source": []
  },
  {
   "cell_type": "code",
   "execution_count": null,
   "metadata": {},
   "outputs": [],
   "source": [
    "p = []\n",
    "counter = 0\n",
    "\n",
    "\n",
    "for i in test['Symbol']:\n",
    "    counter +=1\n",
    "    qurl = quote+i\n",
    "    try:\n",
    "        price = pd.read_html(qurl)[0].loc[1,1]\n",
    "    except:\n",
    "        print(\"none\")\n",
    "        p.append(0)\n",
    "    \n",
    "    try:\n",
    "        chain = pd.read_html(quote+i+\"/options\")\n",
    "        calls = chain[0]\n",
    "    except:\n",
    "        p.append(0)\n",
    "        print('none')\n",
    "        continue        \n",
    "        \n",
    "    try:\n",
    "        strike = round(float(price),1)\n",
    "        e = calls[calls['Strike'] == strike]['Last Price']\n",
    "    except:\n",
    "        p.append(0)\n",
    "        print('none2')\n",
    "        continue\n",
    "        \n",
    "        \n",
    "        \n",
    "    c = 0\n",
    "    for i in e:\n",
    "        c= i\n",
    "        \n",
    "        \n",
    "    try:\n",
    "        perc = c/float(price)\n",
    "    except:\n",
    "        perc = 0 \n",
    "        continue\n",
    "        \n",
    "        \n",
    "        \n",
    "    \n",
    "    p.append(perc)\n",
    "    \n",
    "    print(counter)\n",
    "    \n",
    "p = [x * 100 for x in p]\n",
    "test['percent'] = p\n"
   ]
  },
  {
   "cell_type": "code",
   "execution_count": null,
   "metadata": {},
   "outputs": [],
   "source": []
  },
  {
   "cell_type": "code",
   "execution_count": 18,
   "metadata": {},
   "outputs": [
    {
     "data": {
      "text/plain": [
       "'https://finance.yahoo.com/quote/AAC'"
      ]
     },
     "execution_count": 18,
     "metadata": {},
     "output_type": "execute_result"
    }
   ],
   "source": [
    "qurl"
   ]
  },
  {
   "cell_type": "code",
   "execution_count": 12,
   "metadata": {},
   "outputs": [],
   "source": [
    "part2 = p[:2239]"
   ]
  },
  {
   "cell_type": "code",
   "execution_count": 13,
   "metadata": {},
   "outputs": [
    {
     "name": "stderr",
     "output_type": "stream",
     "text": [
      "C:\\ProgramData\\Anaconda3\\lib\\site-packages\\ipykernel_launcher.py:1: SettingWithCopyWarning: \n",
      "A value is trying to be set on a copy of a slice from a DataFrame.\n",
      "Try using .loc[row_indexer,col_indexer] = value instead\n",
      "\n",
      "See the caveats in the documentation: http://pandas.pydata.org/pandas-docs/stable/indexing.html#indexing-view-versus-copy\n",
      "  \"\"\"Entry point for launching an IPython kernel.\n"
     ]
    }
   ],
   "source": [
    "part['perc']= part2"
   ]
  },
  {
   "cell_type": "code",
   "execution_count": null,
   "metadata": {},
   "outputs": [],
   "source": []
  },
  {
   "cell_type": "code",
   "execution_count": 14,
   "metadata": {},
   "outputs": [],
   "source": [
    "out = part[part['perc']>5]"
   ]
  },
  {
   "cell_type": "code",
   "execution_count": null,
   "metadata": {},
   "outputs": [],
   "source": []
  },
  {
   "cell_type": "code",
   "execution_count": null,
   "metadata": {},
   "outputs": [],
   "source": []
  },
  {
   "cell_type": "code",
   "execution_count": 15,
   "metadata": {},
   "outputs": [],
   "source": [
    "out =out[out['perc']<10]"
   ]
  },
  {
   "cell_type": "code",
   "execution_count": 16,
   "metadata": {},
   "outputs": [
    {
     "data": {
      "text/html": [
       "<div>\n",
       "<style scoped>\n",
       "    .dataframe tbody tr th:only-of-type {\n",
       "        vertical-align: middle;\n",
       "    }\n",
       "\n",
       "    .dataframe tbody tr th {\n",
       "        vertical-align: top;\n",
       "    }\n",
       "\n",
       "    .dataframe thead th {\n",
       "        text-align: right;\n",
       "    }\n",
       "</style>\n",
       "<table border=\"1\" class=\"dataframe\">\n",
       "  <thead>\n",
       "    <tr style=\"text-align: right;\">\n",
       "      <th></th>\n",
       "      <th>Stock name</th>\n",
       "      <th>Symbol</th>\n",
       "      <th>perc</th>\n",
       "    </tr>\n",
       "  </thead>\n",
       "  <tbody>\n",
       "    <tr>\n",
       "      <th>14</th>\n",
       "      <td>Callon Petroleum Co.</td>\n",
       "      <td>CPE</td>\n",
       "      <td>6.600660</td>\n",
       "    </tr>\n",
       "    <tr>\n",
       "      <th>36</th>\n",
       "      <td>Capital Senior Living Corporation</td>\n",
       "      <td>CSU</td>\n",
       "      <td>5.723906</td>\n",
       "    </tr>\n",
       "    <tr>\n",
       "      <th>101</th>\n",
       "      <td>Cherry Hill Mortgage Investment Corporation</td>\n",
       "      <td>CHMI</td>\n",
       "      <td>9.115770</td>\n",
       "    </tr>\n",
       "    <tr>\n",
       "      <th>24</th>\n",
       "      <td>The Denali Fund Inc.</td>\n",
       "      <td>DNY</td>\n",
       "      <td>6.796117</td>\n",
       "    </tr>\n",
       "    <tr>\n",
       "      <th>38</th>\n",
       "      <td>DiamondRock Hospitality Company</td>\n",
       "      <td>DRH</td>\n",
       "      <td>8.196721</td>\n",
       "    </tr>\n",
       "    <tr>\n",
       "      <th>102</th>\n",
       "      <td>Envision Healthcare Holdings, Inc.</td>\n",
       "      <td>EVHC</td>\n",
       "      <td>9.920635</td>\n",
       "    </tr>\n",
       "    <tr>\n",
       "      <th>78</th>\n",
       "      <td>FMC Corporation</td>\n",
       "      <td>FMC</td>\n",
       "      <td>6.191038</td>\n",
       "    </tr>\n",
       "    <tr>\n",
       "      <th>34</th>\n",
       "      <td>Oneok Partners, L.P.</td>\n",
       "      <td>OKS</td>\n",
       "      <td>7.792208</td>\n",
       "    </tr>\n",
       "    <tr>\n",
       "      <th>5</th>\n",
       "      <td>QTS Realty Trust, Inc.</td>\n",
       "      <td>QTS</td>\n",
       "      <td>6.930693</td>\n",
       "    </tr>\n",
       "  </tbody>\n",
       "</table>\n",
       "</div>"
      ],
      "text/plain": [
       "                                      Stock name Symbol      perc\n",
       "14                          Callon Petroleum Co.    CPE  6.600660\n",
       "36             Capital Senior Living Corporation    CSU  5.723906\n",
       "101  Cherry Hill Mortgage Investment Corporation   CHMI  9.115770\n",
       "24                          The Denali Fund Inc.    DNY  6.796117\n",
       "38               DiamondRock Hospitality Company    DRH  8.196721\n",
       "102           Envision Healthcare Holdings, Inc.   EVHC  9.920635\n",
       "78                               FMC Corporation    FMC  6.191038\n",
       "34                          Oneok Partners, L.P.    OKS  7.792208\n",
       "5                         QTS Realty Trust, Inc.    QTS  6.930693"
      ]
     },
     "execution_count": 16,
     "metadata": {},
     "output_type": "execute_result"
    }
   ],
   "source": [
    "out"
   ]
  },
  {
   "cell_type": "code",
   "execution_count": 17,
   "metadata": {},
   "outputs": [
    {
     "name": "stdout",
     "output_type": "stream",
     "text": [
      "                                      Stock name Symbol      perc\n",
      "14                          Callon Petroleum Co.    CPE  6.600660\n",
      "36             Capital Senior Living Corporation    CSU  5.723906\n",
      "101  Cherry Hill Mortgage Investment Corporation   CHMI  9.115770\n",
      "24                          The Denali Fund Inc.    DNY  6.796117\n",
      "38               DiamondRock Hospitality Company    DRH  8.196721\n",
      "102           Envision Healthcare Holdings, Inc.   EVHC  9.920635\n",
      "78                               FMC Corporation    FMC  6.191038\n",
      "34                          Oneok Partners, L.P.    OKS  7.792208\n",
      "5                         QTS Realty Trust, Inc.    QTS  6.930693\n"
     ]
    }
   ],
   "source": [
    "print(out.to_string())"
   ]
  },
  {
   "cell_type": "code",
   "execution_count": 63,
   "metadata": {},
   "outputs": [
    {
     "data": {
      "text/html": [
       "<div>\n",
       "<style scoped>\n",
       "    .dataframe tbody tr th:only-of-type {\n",
       "        vertical-align: middle;\n",
       "    }\n",
       "\n",
       "    .dataframe tbody tr th {\n",
       "        vertical-align: top;\n",
       "    }\n",
       "\n",
       "    .dataframe thead th {\n",
       "        text-align: right;\n",
       "    }\n",
       "</style>\n",
       "<table border=\"1\" class=\"dataframe\">\n",
       "  <thead>\n",
       "    <tr style=\"text-align: right;\">\n",
       "      <th></th>\n",
       "      <th>Stock name</th>\n",
       "      <th>Symbol</th>\n",
       "      <th>perc</th>\n",
       "    </tr>\n",
       "  </thead>\n",
       "  <tbody>\n",
       "    <tr>\n",
       "      <td>22</td>\n",
       "      <td>Adeptus Health Inc.</td>\n",
       "      <td>ADPT</td>\n",
       "      <td>5.270092</td>\n",
       "    </tr>\n",
       "    <tr>\n",
       "      <td>123</td>\n",
       "      <td>American Axle &amp; Manufacturing Holdings, Inc.</td>\n",
       "      <td>AXL</td>\n",
       "      <td>9.159483</td>\n",
       "    </tr>\n",
       "    <tr>\n",
       "      <td>175</td>\n",
       "      <td>Antero Resources Corporation</td>\n",
       "      <td>AR</td>\n",
       "      <td>6.470588</td>\n",
       "    </tr>\n",
       "    <tr>\n",
       "      <td>176</td>\n",
       "      <td>Antero Midstream Partners LP</td>\n",
       "      <td>AM</td>\n",
       "      <td>6.862745</td>\n",
       "    </tr>\n",
       "    <tr>\n",
       "      <td>287</td>\n",
       "      <td>Axalta Coating Systems Ltd.</td>\n",
       "      <td>AXTA</td>\n",
       "      <td>5.801688</td>\n",
       "    </tr>\n",
       "    <tr>\n",
       "      <td>62</td>\n",
       "      <td>Belden Inc.</td>\n",
       "      <td>BDC</td>\n",
       "      <td>5.430410</td>\n",
       "    </tr>\n",
       "    <tr>\n",
       "      <td>14</td>\n",
       "      <td>Callon Petroleum Co.</td>\n",
       "      <td>CPE</td>\n",
       "      <td>8.196721</td>\n",
       "    </tr>\n",
       "    <tr>\n",
       "      <td>36</td>\n",
       "      <td>Capital Senior Living Corporation</td>\n",
       "      <td>CSU</td>\n",
       "      <td>7.092199</td>\n",
       "    </tr>\n",
       "    <tr>\n",
       "      <td>57</td>\n",
       "      <td>CBL &amp; Associates Properties, Inc.</td>\n",
       "      <td>CBL</td>\n",
       "      <td>5.700604</td>\n",
       "    </tr>\n",
       "    <tr>\n",
       "      <td>82</td>\n",
       "      <td>Central Pacific Financial Corp.</td>\n",
       "      <td>CPF</td>\n",
       "      <td>6.960557</td>\n",
       "    </tr>\n",
       "    <tr>\n",
       "      <td>184</td>\n",
       "      <td>Coca-Cola Enterprises Inc.</td>\n",
       "      <td>CCE</td>\n",
       "      <td>6.711409</td>\n",
       "    </tr>\n",
       "    <tr>\n",
       "      <td>234</td>\n",
       "      <td>ConocoPhillips</td>\n",
       "      <td>COP</td>\n",
       "      <td>7.658960</td>\n",
       "    </tr>\n",
       "    <tr>\n",
       "      <td>262</td>\n",
       "      <td>Corrections Corporation of America</td>\n",
       "      <td>CXW</td>\n",
       "      <td>6.316812</td>\n",
       "    </tr>\n",
       "    <tr>\n",
       "      <td>24</td>\n",
       "      <td>The Denali Fund Inc.</td>\n",
       "      <td>DNY</td>\n",
       "      <td>9.136128</td>\n",
       "    </tr>\n",
       "    <tr>\n",
       "      <td>33</td>\n",
       "      <td>DeVry Education Group Inc.</td>\n",
       "      <td>DV</td>\n",
       "      <td>5.285412</td>\n",
       "    </tr>\n",
       "    <tr>\n",
       "      <td>38</td>\n",
       "      <td>DiamondRock Hospitality Company</td>\n",
       "      <td>DRH</td>\n",
       "      <td>8.503401</td>\n",
       "    </tr>\n",
       "    <tr>\n",
       "      <td>80</td>\n",
       "      <td>EnerSys</td>\n",
       "      <td>ENS</td>\n",
       "      <td>5.952381</td>\n",
       "    </tr>\n",
       "    <tr>\n",
       "      <td>107</td>\n",
       "      <td>EPR Properties</td>\n",
       "      <td>EPR</td>\n",
       "      <td>9.060956</td>\n",
       "    </tr>\n",
       "    <tr>\n",
       "      <td>142</td>\n",
       "      <td>Exelon Corporation</td>\n",
       "      <td>EXCU</td>\n",
       "      <td>8.192771</td>\n",
       "    </tr>\n",
       "    <tr>\n",
       "      <td>14</td>\n",
       "      <td>The Gabelli Utility Trust</td>\n",
       "      <td>GUT</td>\n",
       "      <td>5.319149</td>\n",
       "    </tr>\n",
       "    <tr>\n",
       "      <td>53</td>\n",
       "      <td>Genuine Parts Company</td>\n",
       "      <td>GPC</td>\n",
       "      <td>7.710843</td>\n",
       "    </tr>\n",
       "    <tr>\n",
       "      <td>116</td>\n",
       "      <td>Greatbatch, Inc.</td>\n",
       "      <td>GB</td>\n",
       "      <td>6.471183</td>\n",
       "    </tr>\n",
       "    <tr>\n",
       "      <td>123</td>\n",
       "      <td>Group 1 Automotive Inc.</td>\n",
       "      <td>GPI</td>\n",
       "      <td>5.691925</td>\n",
       "    </tr>\n",
       "    <tr>\n",
       "      <td>15</td>\n",
       "      <td>Harris Corporation</td>\n",
       "      <td>HRS</td>\n",
       "      <td>6.653360</td>\n",
       "    </tr>\n",
       "    <tr>\n",
       "      <td>51</td>\n",
       "      <td>Helios Strategic Income Fund, Inc.</td>\n",
       "      <td>HSA</td>\n",
       "      <td>8.971292</td>\n",
       "    </tr>\n",
       "    <tr>\n",
       "      <td>1</td>\n",
       "      <td>Jabil Circuit Inc.</td>\n",
       "      <td>JBL</td>\n",
       "      <td>6.250737</td>\n",
       "    </tr>\n",
       "    <tr>\n",
       "      <td>41</td>\n",
       "      <td>Just Energy Group Inc.</td>\n",
       "      <td>JE</td>\n",
       "      <td>7.430341</td>\n",
       "    </tr>\n",
       "    <tr>\n",
       "      <td>7</td>\n",
       "      <td>Landauer, Inc.</td>\n",
       "      <td>LDR</td>\n",
       "      <td>8.960573</td>\n",
       "    </tr>\n",
       "    <tr>\n",
       "      <td>71</td>\n",
       "      <td>Lumber Liquidators Holdings, Inc.</td>\n",
       "      <td>LL</td>\n",
       "      <td>7.114818</td>\n",
       "    </tr>\n",
       "    <tr>\n",
       "      <td>27</td>\n",
       "      <td>Managed High Yield Plus Fund Inc.</td>\n",
       "      <td>HYF</td>\n",
       "      <td>5.502063</td>\n",
       "    </tr>\n",
       "    <tr>\n",
       "      <td>57</td>\n",
       "      <td>MAXIMUS, Inc.</td>\n",
       "      <td>MMS</td>\n",
       "      <td>9.140316</td>\n",
       "    </tr>\n",
       "    <tr>\n",
       "      <td>142</td>\n",
       "      <td>MiX Telematics Limited</td>\n",
       "      <td>MIXT</td>\n",
       "      <td>6.774194</td>\n",
       "    </tr>\n",
       "    <tr>\n",
       "      <td>18</td>\n",
       "      <td>Natural Grocers By Vitamin Cottage, Inc.</td>\n",
       "      <td>NGVC</td>\n",
       "      <td>8.568548</td>\n",
       "    </tr>\n",
       "    <tr>\n",
       "      <td>109</td>\n",
       "      <td>NorthWestern Corporation</td>\n",
       "      <td>NWE</td>\n",
       "      <td>6.916996</td>\n",
       "    </tr>\n",
       "    <tr>\n",
       "      <td>48</td>\n",
       "      <td>Owens Corning</td>\n",
       "      <td>OC</td>\n",
       "      <td>8.842444</td>\n",
       "    </tr>\n",
       "    <tr>\n",
       "      <td>31</td>\n",
       "      <td>PennantPark Investment Corporation</td>\n",
       "      <td>PNTA</td>\n",
       "      <td>6.097561</td>\n",
       "    </tr>\n",
       "    <tr>\n",
       "      <td>52</td>\n",
       "      <td>Pfizer Inc.</td>\n",
       "      <td>PFE</td>\n",
       "      <td>5.036938</td>\n",
       "    </tr>\n",
       "    <tr>\n",
       "      <td>96</td>\n",
       "      <td>Piper Jaffray Companies</td>\n",
       "      <td>PJC</td>\n",
       "      <td>5.361930</td>\n",
       "    </tr>\n",
       "    <tr>\n",
       "      <td>149</td>\n",
       "      <td>Protective Life Corporation</td>\n",
       "      <td>PLP</td>\n",
       "      <td>5.026079</td>\n",
       "    </tr>\n",
       "    <tr>\n",
       "      <td>9</td>\n",
       "      <td>Ramco-Gershenson Properties Trust</td>\n",
       "      <td>RPT</td>\n",
       "      <td>5.067568</td>\n",
       "    </tr>\n",
       "    <tr>\n",
       "      <td>22</td>\n",
       "      <td>RealD Inc.</td>\n",
       "      <td>RLD</td>\n",
       "      <td>8.461538</td>\n",
       "    </tr>\n",
       "    <tr>\n",
       "      <td>9</td>\n",
       "      <td>Salient MLP and Energy Infrastructure Fund</td>\n",
       "      <td>SMF</td>\n",
       "      <td>6.885246</td>\n",
       "    </tr>\n",
       "    <tr>\n",
       "      <td>137</td>\n",
       "      <td>StanCorp Financial Group, Inc.</td>\n",
       "      <td>SFG</td>\n",
       "      <td>6.033789</td>\n",
       "    </tr>\n",
       "    <tr>\n",
       "      <td>74</td>\n",
       "      <td>Tetra Technologies Inc.</td>\n",
       "      <td>TTI</td>\n",
       "      <td>5.268293</td>\n",
       "    </tr>\n",
       "    <tr>\n",
       "      <td>114</td>\n",
       "      <td>Tower International, Inc.</td>\n",
       "      <td>TOWR</td>\n",
       "      <td>6.010686</td>\n",
       "    </tr>\n",
       "    <tr>\n",
       "      <td>47</td>\n",
       "      <td>U.S. Physical Therapy, Inc.</td>\n",
       "      <td>USPH</td>\n",
       "      <td>7.547170</td>\n",
       "    </tr>\n",
       "    <tr>\n",
       "      <td>49</td>\n",
       "      <td>USA Compression Partners, LP</td>\n",
       "      <td>USAC</td>\n",
       "      <td>7.854376</td>\n",
       "    </tr>\n",
       "    <tr>\n",
       "      <td>32</td>\n",
       "      <td>Vipshop Holdings Ltd ADR</td>\n",
       "      <td>VIPS</td>\n",
       "      <td>7.075472</td>\n",
       "    </tr>\n",
       "    <tr>\n",
       "      <td>56</td>\n",
       "      <td>Vulcan Materials Co</td>\n",
       "      <td>VMC</td>\n",
       "      <td>8.293839</td>\n",
       "    </tr>\n",
       "  </tbody>\n",
       "</table>\n",
       "</div>"
      ],
      "text/plain": [
       "                                       Stock name Symbol      perc\n",
       "22                            Adeptus Health Inc.   ADPT  5.270092\n",
       "123  American Axle & Manufacturing Holdings, Inc.    AXL  9.159483\n",
       "175                  Antero Resources Corporation     AR  6.470588\n",
       "176                  Antero Midstream Partners LP     AM  6.862745\n",
       "287                   Axalta Coating Systems Ltd.   AXTA  5.801688\n",
       "62                                    Belden Inc.    BDC  5.430410\n",
       "14                           Callon Petroleum Co.    CPE  8.196721\n",
       "36              Capital Senior Living Corporation    CSU  7.092199\n",
       "57              CBL & Associates Properties, Inc.    CBL  5.700604\n",
       "82                Central Pacific Financial Corp.    CPF  6.960557\n",
       "184                    Coca-Cola Enterprises Inc.    CCE  6.711409\n",
       "234                                ConocoPhillips    COP  7.658960\n",
       "262            Corrections Corporation of America    CXW  6.316812\n",
       "24                           The Denali Fund Inc.    DNY  9.136128\n",
       "33                     DeVry Education Group Inc.     DV  5.285412\n",
       "38                DiamondRock Hospitality Company    DRH  8.503401\n",
       "80                                        EnerSys    ENS  5.952381\n",
       "107                                EPR Properties    EPR  9.060956\n",
       "142                            Exelon Corporation   EXCU  8.192771\n",
       "14                      The Gabelli Utility Trust    GUT  5.319149\n",
       "53                          Genuine Parts Company    GPC  7.710843\n",
       "116                              Greatbatch, Inc.     GB  6.471183\n",
       "123                       Group 1 Automotive Inc.    GPI  5.691925\n",
       "15                             Harris Corporation    HRS  6.653360\n",
       "51             Helios Strategic Income Fund, Inc.    HSA  8.971292\n",
       "1                              Jabil Circuit Inc.    JBL  6.250737\n",
       "41                         Just Energy Group Inc.     JE  7.430341\n",
       "7                                  Landauer, Inc.    LDR  8.960573\n",
       "71              Lumber Liquidators Holdings, Inc.     LL  7.114818\n",
       "27              Managed High Yield Plus Fund Inc.    HYF  5.502063\n",
       "57                                  MAXIMUS, Inc.    MMS  9.140316\n",
       "142                        MiX Telematics Limited   MIXT  6.774194\n",
       "18       Natural Grocers By Vitamin Cottage, Inc.   NGVC  8.568548\n",
       "109                      NorthWestern Corporation    NWE  6.916996\n",
       "48                                  Owens Corning     OC  8.842444\n",
       "31             PennantPark Investment Corporation   PNTA  6.097561\n",
       "52                                    Pfizer Inc.    PFE  5.036938\n",
       "96                        Piper Jaffray Companies    PJC  5.361930\n",
       "149                   Protective Life Corporation    PLP  5.026079\n",
       "9               Ramco-Gershenson Properties Trust    RPT  5.067568\n",
       "22                                     RealD Inc.    RLD  8.461538\n",
       "9      Salient MLP and Energy Infrastructure Fund    SMF  6.885246\n",
       "137                StanCorp Financial Group, Inc.    SFG  6.033789\n",
       "74                        Tetra Technologies Inc.    TTI  5.268293\n",
       "114                     Tower International, Inc.   TOWR  6.010686\n",
       "47                    U.S. Physical Therapy, Inc.   USPH  7.547170\n",
       "49                   USA Compression Partners, LP   USAC  7.854376\n",
       "32                       Vipshop Holdings Ltd ADR   VIPS  7.075472\n",
       "56                            Vulcan Materials Co    VMC  8.293839"
      ]
     },
     "execution_count": 63,
     "metadata": {},
     "output_type": "execute_result"
    }
   ],
   "source": [
    "out"
   ]
  },
  {
   "cell_type": "code",
   "execution_count": null,
   "metadata": {},
   "outputs": [],
   "source": []
  }
 ],
 "metadata": {
  "kernelspec": {
   "display_name": "Python 3",
   "language": "python",
   "name": "python3"
  },
  "language_info": {
   "codemirror_mode": {
    "name": "ipython",
    "version": 3
   },
   "file_extension": ".py",
   "mimetype": "text/x-python",
   "name": "python",
   "nbconvert_exporter": "python",
   "pygments_lexer": "ipython3",
   "version": "3.7.6"
  }
 },
 "nbformat": 4,
 "nbformat_minor": 2
}
